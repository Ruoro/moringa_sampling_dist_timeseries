{
  "nbformat": 4,
  "nbformat_minor": 0,
  "metadata": {
    "colab": {
      "name": "Copy of Python Programming: Simple Random Sampling",
      "provenance": [],
      "collapsed_sections": [
        "s0-xi8v6eATI",
        "c2SS_SWaQXE2",
        "cSWmgSy3SV5D",
        "RcV5DlN5R2uh",
        "PA5HaWPvTALQ",
        "BeUYGvGhTsm1",
        "bNWFLKL-gRTO",
        "kV0dRO0nUJzL",
        "0gGIBBpggZT2",
        "DwOtPvA3UnHf",
        "LZgY26bsgfJv",
        "-22NquhoWF7l",
        "8QVs13BcYJpm"
      ],
      "toc_visible": true
    },
    "kernelspec": {
      "name": "python3",
      "display_name": "Python 3"
    }
  },
  "cells": [
    {
      "cell_type": "markdown",
      "metadata": {
        "id": "YutBgvuBdPHi"
      },
      "source": [
        "<font color=\"green\">To start working on this notebook, or any other notebook that we will use in the Moringa Data Science Course, we will need to save our own copy of it. We can do this by clicking File > Save a Copy in Drive. We will then be able to make edits to our own copy of this notebook.</font>"
      ]
    },
    {
      "cell_type": "markdown",
      "metadata": {
        "id": "5zn7dG78QUoE"
      },
      "source": [
        "# Python Programming:  Simple Random Sampling\n"
      ]
    },
    {
      "cell_type": "markdown",
      "metadata": {
        "id": "s0-xi8v6eATI"
      },
      "source": [
        "## Importing our Libraries"
      ]
    },
    {
      "cell_type": "code",
      "metadata": {
        "id": "suQkBJ4BTRWv"
      },
      "source": [
        "# importing numpy\n",
        "import numpy as np\n",
        "\n",
        "# importing pandas\n",
        "import pandas as pd\n",
        "\n",
        "# importing random module\n",
        "# we will use random.sample() function to return a k length \n",
        "# list of unique elements chosen from our population\n",
        "import random"
      ],
      "execution_count": null,
      "outputs": []
    },
    {
      "cell_type": "markdown",
      "metadata": {
        "id": "c2SS_SWaQXE2"
      },
      "source": [
        "## 1.0 Selecting More than One item from a List"
      ]
    },
    {
      "cell_type": "code",
      "metadata": {
        "id": "ttRODtArQMVS",
        "colab": {
          "base_uri": "https://localhost:8080/"
        },
        "outputId": "a6eba951-29af-4cd3-f872-ad4e141942eb"
      },
      "source": [
        "# Example 1\n",
        "# ---\n",
        "# Selecting more than one item from a list \n",
        "# ---\n",
        "#\n",
        "\n",
        "list = [20, 40, 80, 100, 120]\n",
        "print (\"Choosing 3 random items from a list using sample function\", random.sample(list, k=3))\n",
        "\n",
        "list = [20, 40, 20, 20, 20]\n",
        "print (\"Choosing 3 random items from a list using sample function\",random.sample(list, k=3))\n",
        "\n",
        "# As you can see we pass k=3 to choose 3 random elements from a list. \n",
        "# In return, we got a list of 3 random items."
      ],
      "execution_count": null,
      "outputs": [
        {
          "output_type": "stream",
          "text": [
            "Choosing 3 random items from a list using sample function [120, 20, 100]\n",
            "Choosing 3 random items from a list using sample function [40, 20, 20]\n"
          ],
          "name": "stdout"
        }
      ]
    },
    {
      "cell_type": "markdown",
      "metadata": {
        "id": "cSWmgSy3SV5D"
      },
      "source": [
        "### <font color=\"green\"> 1.0 Challenges</font>"
      ]
    },
    {
      "cell_type": "code",
      "metadata": {
        "id": "Ga8D2XvfRFaP",
        "colab": {
          "base_uri": "https://localhost:8080/"
        },
        "outputId": "7f09a891-68e4-48dc-a0ca-d9f418d557cb"
      },
      "source": [
        "# Challenge 1\n",
        "# ---\n",
        "# Question: Create a list containing 10 counties in Kenya \n",
        "# then select 2 random counties from the list.\n",
        "# ---\n",
        "# \n",
        "counties = ['Mombasa', 'Kwale', 'Kilifi', 'Tana River', 'Lamu.', 'Taita/Taveta', 'Garissa.', 'Wajir']\n",
        "print ('Random county pair:', random.sample(counties, k=2))"
      ],
      "execution_count": null,
      "outputs": [
        {
          "output_type": "stream",
          "text": [
            "Random county pair: ['Lamu.', 'Garissa.']\n"
          ],
          "name": "stdout"
        }
      ]
    },
    {
      "cell_type": "markdown",
      "metadata": {
        "id": "RcV5DlN5R2uh"
      },
      "source": [
        "## 2.0  Selecting the Random Sample from Dictionary"
      ]
    },
    {
      "cell_type": "code",
      "metadata": {
        "id": "yerkTFAPSIlT",
        "colab": {
          "base_uri": "https://localhost:8080/"
        },
        "outputId": "3f89d835-4a58-47d7-e8ff-977710724e0a"
      },
      "source": [
        "# Example 1\n",
        "# ---\n",
        "# We can select a random key-value pair from the dictionary as shown \n",
        "# ---\n",
        "#\n",
        "marks_dict = {\n",
        "  \"Kelly\": 55,\n",
        "  \"jhon\": 70,\n",
        "  \"Donald\": 60,\n",
        "  \"Lennin\" :50\n",
        "}\n",
        "\n",
        "print (\"Choosing 2 random items from a dictionary using sample method \", random.sample(marks_dict.items(), k=2))"
      ],
      "execution_count": null,
      "outputs": [
        {
          "output_type": "stream",
          "text": [
            "Choosing 2 random items from a dictionary using sample method  [('Kelly', 55), ('Donald', 60)]\n"
          ],
          "name": "stdout"
        }
      ]
    },
    {
      "cell_type": "markdown",
      "metadata": {
        "id": "PA5HaWPvTALQ"
      },
      "source": [
        "### <font color=\"green\">2.0 Challenges</font>"
      ]
    },
    {
      "cell_type": "code",
      "metadata": {
        "id": "GZimMc1TSSGU",
        "colab": {
          "base_uri": "https://localhost:8080/"
        },
        "outputId": "4e030d0a-9010-486a-879e-51c5862ff8c7"
      },
      "source": [
        "# Challenge 1\n",
        "# ---\n",
        "# A caterer offers three different food packages; \n",
        "# bronze package: starch:rice stew:chicken curry vegetable:cabbages desert:melon\n",
        "# silver package: starch:rice and chappati  stew:beef curry vegetable:spinach desert:melon and bananas\n",
        "# gold package: starch:rice, chappati and mukimo stew: beef curry vegetable:spinach and managu desert: tart\n",
        "# Create a dictionary that stores the above information and select a sample of size 2 \n",
        "# ---\n",
        "#\n",
        "food_packages = {'bronze_package' : {'starch':'rice', 'stew':'chicken curry', 'vegetable':'cabbages', 'desert':'melon'},\n",
        "                 'silver_package' : {'starch':'rice and chappati',  'stew':'beef curry', 'vegetable':'spinach', 'desert':'melon and bananas'},\n",
        "                 'gold_package': {'starch':'rice, chappati and mukimo', 'stew': 'beef curry', 'vegetable':'spinach and managu', 'desert': 'tart'}\n",
        "}\n",
        "print (random.sample(food_packages.items(), k=2))\n"
      ],
      "execution_count": null,
      "outputs": [
        {
          "output_type": "stream",
          "text": [
            "[('gold_package', {'starch': 'rice, chappati and mukimo', 'stew': 'beef curry', 'vegetable': 'spinach and managu', 'desert': 'tart'}), ('silver_package', {'starch': 'rice and chappati', 'stew': 'beef curry', 'vegetable': 'spinach', 'desert': 'melon and bananas'})]\n"
          ],
          "name": "stdout"
        }
      ]
    },
    {
      "cell_type": "markdown",
      "metadata": {
        "id": "BeUYGvGhTsm1"
      },
      "source": [
        "## 3.0 Selecting a Random Sample with Replacement to including repetition\n"
      ]
    },
    {
      "cell_type": "code",
      "metadata": {
        "id": "9lDLmuqyT0DH",
        "colab": {
          "base_uri": "https://localhost:8080/"
        },
        "outputId": "83e522c7-acb6-41f1-ee0f-eb2aa91ca76d"
      },
      "source": [
        "# Example 1\n",
        "# ---\n",
        "# We can select a random sample with replacement to include repetition as shown below\n",
        "# ---\n",
        "# \n",
        "names = [\"Roger\", \"Nadal\", \"Novac\", \"Andre\", \"Sarena\", \"Mariya\", \"Martina\"]\n",
        "\n",
        "print(\"random sample with replacement to including repetition \", random.choices(names, k=3))"
      ],
      "execution_count": null,
      "outputs": [
        {
          "output_type": "stream",
          "text": [
            "random sample with replacement to including repetition  ['Andre', 'Nadal', 'Mariya']\n"
          ],
          "name": "stdout"
        }
      ]
    },
    {
      "cell_type": "markdown",
      "metadata": {
        "id": "bNWFLKL-gRTO"
      },
      "source": [
        "### <font color=\"green\">3.0 Challenges</font>"
      ]
    },
    {
      "cell_type": "code",
      "metadata": {
        "id": "OYjj3osOUCC3",
        "colab": {
          "base_uri": "https://localhost:8080/"
        },
        "outputId": "7091bb78-c0eb-4a00-edb0-6c65f99f863d"
      },
      "source": [
        "# Challenge 1\n",
        "# ---\n",
        "# Question: Select a random sample of 3 with replacement to include replacement from the \n",
        "# following list of months\n",
        "# ---\n",
        "#\n",
        "\n",
        "months = ['January', 'February', 'March', 'April', 'May', 'June', 'July',\n",
        "          'August', 'September', 'October', 'November', 'December']\n",
        "\n",
        "print('random months with replacement to include repetition', random.choices(months, k=3))"
      ],
      "execution_count": null,
      "outputs": [
        {
          "output_type": "stream",
          "text": [
            "random months with replacement to include repetition ['June', 'May', 'September']\n"
          ],
          "name": "stdout"
        }
      ]
    },
    {
      "cell_type": "markdown",
      "metadata": {
        "id": "kV0dRO0nUJzL"
      },
      "source": [
        "## 4.0 Selecting a Random Sample from a Range of Integers"
      ]
    },
    {
      "cell_type": "code",
      "metadata": {
        "id": "HBqhmibxUIgt",
        "colab": {
          "base_uri": "https://localhost:8080/"
        },
        "outputId": "7a2f1a21-3982-41fb-f6e0-dbaff8a42cbd"
      },
      "source": [
        "# Example 1\n",
        "# ---\n",
        "# We can select a random sample from a range of integers as shown below\n",
        "# ---\n",
        "# \n",
        "\n",
        "weight_set = {40, 50, 55, 65, 75, 80}\n",
        "\n",
        "print (\"Choosing 4 random items from a set \", random.sample(weight_set, k=4))"
      ],
      "execution_count": null,
      "outputs": [
        {
          "output_type": "stream",
          "text": [
            "Choosing 4 random items from a set  [65, 55, 80, 75]\n"
          ],
          "name": "stdout"
        }
      ]
    },
    {
      "cell_type": "markdown",
      "metadata": {
        "id": "0gGIBBpggZT2"
      },
      "source": [
        "### <font color=\"green\">4.1 Challenges</font>"
      ]
    },
    {
      "cell_type": "code",
      "metadata": {
        "id": "IIAkil2VUjuI",
        "colab": {
          "base_uri": "https://localhost:8080/"
        },
        "outputId": "4ed942ba-45d2-441c-e549-15c9dcc1538a"
      },
      "source": [
        "# Challenge 1\n",
        "# ---\n",
        "# Question: Select a random sample from a range of integers as shown below\n",
        "# --- \n",
        "# \n",
        "weight_set = {4, 5, 6, 7, 8, 9, 10}\n",
        "\n",
        "print('chosing 3 random samples from the range of interges', random.sample(weight_set, k=3))"
      ],
      "execution_count": null,
      "outputs": [
        {
          "output_type": "stream",
          "text": [
            "chosing 3 random samples from the range of interges [10, 8, 4]\n"
          ],
          "name": "stdout"
        }
      ]
    },
    {
      "cell_type": "markdown",
      "metadata": {
        "id": "DwOtPvA3UnHf"
      },
      "source": [
        "## 5.0 Selecting a Sample Array from a Large multidimensional Array\n",
        "\n"
      ]
    },
    {
      "cell_type": "code",
      "metadata": {
        "id": "RxtsWbUtU2cW",
        "colab": {
          "base_uri": "https://localhost:8080/"
        },
        "outputId": "4bb98dac-8943-49c3-c271-5b6f2eb1108c"
      },
      "source": [
        "# Example 1\n",
        "# ---\n",
        "# We can select a sample array from a large multidimensional array as shown\n",
        "# ---\n",
        "# \n",
        "\n",
        "array = np.array([[2 ,4, 6], [5, 10, 15], [6, 12, 18], [7, 14, 21], [8, 16, 24]]) \n",
        "print(\"Printing 2D Array\")\n",
        "print(array)\n",
        "\n",
        "# selecting multiple random rows from the 2D as shown\n",
        "print(\"Selecting multiple random rows from the 2D array\")\n",
        "randomRows = np.random.randint(5, size=2)\n",
        "for i in randomRows:\n",
        "  print(array[i,:])"
      ],
      "execution_count": null,
      "outputs": [
        {
          "output_type": "stream",
          "text": [
            "Printing 2D Array\n",
            "[[ 2  4  6]\n",
            " [ 5 10 15]\n",
            " [ 6 12 18]\n",
            " [ 7 14 21]\n",
            " [ 8 16 24]]\n",
            "Selecting multiple random rows from the 2D array\n",
            "[ 7 14 21]\n",
            "[ 6 12 18]\n"
          ],
          "name": "stdout"
        }
      ]
    },
    {
      "cell_type": "markdown",
      "metadata": {
        "id": "LZgY26bsgfJv"
      },
      "source": [
        "### <font color=\"green\">5.0 Challenges</font>"
      ]
    },
    {
      "cell_type": "code",
      "metadata": {
        "id": "mJt1ePbSVR9j",
        "colab": {
          "base_uri": "https://localhost:8080/"
        },
        "outputId": "5fde3a3d-c4d8-4c01-cdfa-956dbe7c3491"
      },
      "source": [
        "# Challenge 1\n",
        "# ---\n",
        "# Question: Select two arrays from the given multidimensional array\n",
        "# ---\n",
        "# \n",
        "\n",
        "a = np.array([[2, 4, 6, 8, 10], [3, 6, 9, 12, 15], [4, 8, 12, 16, 20], [1 ,2 , 4, 5, 6], [5, 10, 15, 20, 25], [6, 12, 18, 24, 30], [7, 14, 21, 28, 35]]  )\n",
        "\n",
        "print(\"Selecting multiple random rows from the 2D array\")\n",
        "randomRows = np.random.randint(7, size=2)\n",
        "for i in randomRows:\n",
        "  print(a[i,:])"
      ],
      "execution_count": null,
      "outputs": [
        {
          "output_type": "stream",
          "text": [
            "Selecting multiple random rows from the 2D array\n",
            "[1 2 4 5 6]\n",
            "[ 4  8 12 16 20]\n"
          ],
          "name": "stdout"
        }
      ]
    },
    {
      "cell_type": "markdown",
      "metadata": {
        "id": "-22NquhoWF7l"
      },
      "source": [
        "## 6.0 Selecting Random Samples from a Dataset"
      ]
    },
    {
      "cell_type": "code",
      "metadata": {
        "id": "gimbl5z3Waat",
        "colab": {
          "base_uri": "https://localhost:8080/"
        },
        "outputId": "7a432d88-36cc-40fa-ad1a-4e03b89b2768"
      },
      "source": [
        "# Example 1\n",
        "# ---\n",
        "# Selecting a random sample from the following medical appointments dataset\n",
        "# ---\n",
        "# Dataset url = http://bit.ly/MedicalAppointmentsDataset\n",
        "# ---\n",
        "# \n",
        "\n",
        "# Loading the dataset\n",
        "medical_df = pd.read_csv(\"http://bit.ly/MedicalAppointmentsDataset\")\n",
        "\n",
        "# Determining the size\n",
        "print(medical_df.shape)\n",
        "\n",
        "\n",
        "# Previewing the dataset\n",
        "print(medical_df.head())\n",
        "\n",
        "# Selecting the sample \n",
        "medical_sample = medical_df.sample(n = 10, replace=\"False\")\n",
        "print(medical_sample)"
      ],
      "execution_count": null,
      "outputs": [
        {
          "output_type": "stream",
          "text": [
            "(110527, 14)\n",
            "      PatientId  AppointmentID Gender  ... Handcap SMS_received  No-show\n",
            "0  2.987250e+13        5642903      F  ...       0            0       No\n",
            "1  5.589978e+14        5642503      M  ...       0            0       No\n",
            "2  4.262962e+12        5642549      F  ...       0            0       No\n",
            "3  8.679512e+11        5642828      F  ...       0            0       No\n",
            "4  8.841186e+12        5642494      F  ...       0            0       No\n",
            "\n",
            "[5 rows x 14 columns]\n",
            "           PatientId  AppointmentID Gender  ... Handcap SMS_received  No-show\n",
            "79067   4.361176e+12        5651850      M  ...       0            0       No\n",
            "2469    3.211434e+13        5619655      M  ...       0            1       No\n",
            "41975   9.229387e+13        5653645      F  ...       1            0      Yes\n",
            "96012   2.617658e+12        5757093      M  ...       0            0       No\n",
            "109467  5.569557e+12        5760451      F  ...       0            0       No\n",
            "43295   9.977995e+12        5660166      M  ...       0            0       No\n",
            "81688   4.491326e+11        5672439      F  ...       0            0       No\n",
            "49317   8.961544e+12        5670479      F  ...       0            0       No\n",
            "53320   5.437666e+13        5660223      M  ...       0            0       No\n",
            "79121   5.499693e+13        5605458      M  ...       0            1       No\n",
            "\n",
            "[10 rows x 14 columns]\n"
          ],
          "name": "stdout"
        }
      ]
    },
    {
      "cell_type": "markdown",
      "metadata": {
        "id": "8QVs13BcYJpm"
      },
      "source": [
        "### <font color=\"green\">6.0 Challenges </font>"
      ]
    },
    {
      "cell_type": "code",
      "metadata": {
        "id": "VZEi6JOnXJNt",
        "colab": {
          "base_uri": "https://localhost:8080/"
        },
        "outputId": "c6b87d07-5b36-40a5-d77d-47eec4a9be5f"
      },
      "source": [
        "# Challenge 1\n",
        "# ---\n",
        "# Select a random sample of 10 from the given dataset below \n",
        "# ---\n",
        "# Dataset url = http://bit.ly/DSRussianInvestigation\n",
        "# ---\n",
        "#\n",
        "url ='http://bit.ly/DSRussianInvestigation'\n",
        "df = pd.read_csv(url)\n",
        "print (df.shape)\n",
        "print(df.head())\n",
        "\n",
        "# random sample of 10\n",
        "df = df.sample(n=10, replace= False)\n",
        "print (df.shape)\n",
        "print(df)"
      ],
      "execution_count": null,
      "outputs": [
        {
          "output_type": "stream",
          "text": [
            "(194, 13)\n",
            "  investigation investigation-start  ... american      president\n",
            "0     watergate          1973-05-19  ...     True  Richard Nixon\n",
            "1     watergate          1973-05-19  ...     True  Richard Nixon\n",
            "2     watergate          1973-05-19  ...     True  Richard Nixon\n",
            "3     watergate          1973-05-19  ...     True  Richard Nixon\n",
            "4     watergate          1973-05-19  ...     True  Richard Nixon\n",
            "\n",
            "[5 rows x 13 columns]\n",
            "(10, 13)\n",
            "                     investigation  ...         president\n",
            "91                     iran-contra  ...     Ronald Reagan\n",
            "9                        watergate  ...     Richard Nixon\n",
            "10                       watergate  ...     Richard Nixon\n",
            "113  sealed-investigation-hwbush-2  ...  George H.W. Bush\n",
            "188                         russia  ...      Donald Trump\n",
            "149                       cisneros  ...      Bill Clinton\n",
            "36                       watergate  ...     Richard Nixon\n",
            "13                       watergate  ...     Richard Nixon\n",
            "66                       watergate  ...     Richard Nixon\n",
            "166                         russia  ...      Donald Trump\n",
            "\n",
            "[10 rows x 13 columns]\n"
          ],
          "name": "stdout"
        }
      ]
    },
    {
      "cell_type": "code",
      "metadata": {
        "id": "WZgm88i7YTRf",
        "colab": {
          "base_uri": "https://localhost:8080/"
        },
        "outputId": "70804ba4-bcee-4815-c5ab-7fb534a75cef"
      },
      "source": [
        "# Challenge 2\n",
        "# ---\n",
        "# A medical company would like to follow up with 50 patients who never showed up for appointments \n",
        "# but received an sms. Select a random sample from such patients given the medical dataset below \n",
        "# ---\n",
        "# Dataset url = http://bit.ly/MedicalAppointmentsDataset\n",
        "# ---\n",
        "#\n",
        "url = 'http://bit.ly/MedicalAppointmentsDataset'\n",
        "med_df = pd.read_csv(url)\n",
        "print(med_df.shape)\n",
        "\n",
        "# Selecting the ones who were a no-show and received an SMS\n",
        "med_dfc = med_df[(med_df['SMS_received'] == 1) & (med_df['No-show'] == 'Yes')]\n",
        "print(med_dfc.shape)\n",
        "\n",
        "# Random sample of 50\n",
        "med_dfc = med_dfc.sample(n=50, replace=False)\n",
        "print('The shape of the random sample sample: ', med_dfc.shape)\n",
        "print(med_dfc) "
      ],
      "execution_count": null,
      "outputs": [
        {
          "output_type": "stream",
          "text": [
            "(110527, 14)\n",
            "(9784, 14)\n",
            "The shape of the random sample sample:  (50, 14)\n",
            "           PatientId  AppointmentID Gender  ... Handcap SMS_received  No-show\n",
            "22384   5.898452e+12        5640625      M  ...       0            1      Yes\n",
            "84908   5.752660e+13        5738136      F  ...       0            1      Yes\n",
            "36128   4.797911e+13        5618954      F  ...       0            1      Yes\n",
            "105700  3.235148e+10        5763206      F  ...       0            1      Yes\n",
            "26282   3.431287e+14        5461012      F  ...       0            1      Yes\n",
            "38403   7.583267e+11        5608759      F  ...       0            1      Yes\n",
            "104849  7.894552e+14        5717062      F  ...       0            1      Yes\n",
            "79213   4.929853e+13        5629912      F  ...       0            1      Yes\n",
            "82072   9.286654e+09        5614277      F  ...       0            1      Yes\n",
            "51991   2.329912e+13        5700382      F  ...       0            1      Yes\n",
            "19443   8.264823e+14        5624438      F  ...       0            1      Yes\n",
            "105983  7.363897e+13        5713605      M  ...       0            1      Yes\n",
            "108262  6.183755e+12        5612203      F  ...       0            1      Yes\n",
            "38622   4.777762e+12        5609685      F  ...       0            1      Yes\n",
            "46850   8.448998e+12        5533665      F  ...       0            1      Yes\n",
            "68710   4.222738e+14        5648835      F  ...       0            1      Yes\n",
            "82083   6.343949e+11        5597185      F  ...       0            1      Yes\n",
            "42373   4.688454e+11        5614504      F  ...       0            1      Yes\n",
            "61491   6.878884e+13        5713541      M  ...       0            1      Yes\n",
            "36937   9.571772e+12        5638508      M  ...       0            1      Yes\n",
            "86989   7.689156e+11        5653979      F  ...       0            1      Yes\n",
            "60691   2.797782e+12        5597175      F  ...       0            1      Yes\n",
            "94628   2.473925e+14        5735943      F  ...       0            1      Yes\n",
            "106490  2.116667e+12        5605817      M  ...       0            1      Yes\n",
            "102795  1.216587e+12        5134197      F  ...       0            1      Yes\n",
            "11634   1.188335e+12        5726718      F  ...       0            1      Yes\n",
            "24747   5.654828e+10        5599174      F  ...       0            1      Yes\n",
            "102705  2.452831e+14        5687714      F  ...       0            1      Yes\n",
            "79028   5.718688e+13        5651587      M  ...       0            1      Yes\n",
            "55756   6.423447e+14        5617778      F  ...       0            1      Yes\n",
            "105405  3.771713e+13        5749395      F  ...       0            1      Yes\n",
            "33893   1.363164e+13        5695478      M  ...       0            1      Yes\n",
            "57281   8.127868e+12        5608631      F  ...       0            1      Yes\n",
            "53065   8.817849e+11        5546045      F  ...       0            1      Yes\n",
            "71230   8.474397e+11        5474792      M  ...       0            1      Yes\n",
            "104798  9.387682e+14        5760414      F  ...       0            1      Yes\n",
            "36362   4.781249e+12        5665362      M  ...       0            1      Yes\n",
            "99502   4.215359e+14        5680388      F  ...       0            1      Yes\n",
            "108167  4.116439e+13        5520972      F  ...       0            1      Yes\n",
            "57301   4.394443e+09        5532141      M  ...       0            1      Yes\n",
            "81157   8.849874e+12        5596977      M  ...       0            1      Yes\n",
            "67870   7.687934e+14        5622772      M  ...       0            1      Yes\n",
            "5571    2.467764e+10        5636145      M  ...       0            1      Yes\n",
            "103486  6.224319e+13        5737804      F  ...       0            1      Yes\n",
            "25063   7.242256e+11        5630109      M  ...       0            1      Yes\n",
            "1956    5.974345e+13        5606011      F  ...       0            1      Yes\n",
            "19538   5.952139e+12        5664455      M  ...       0            1      Yes\n",
            "47609   7.997715e+14        5662967      M  ...       0            1      Yes\n",
            "110399  9.437123e+13        5692938      F  ...       0            1      Yes\n",
            "1318    6.468193e+14        5478890      M  ...       0            1      Yes\n",
            "\n",
            "[50 rows x 14 columns]\n"
          ],
          "name": "stdout"
        }
      ]
    },
    {
      "cell_type": "code",
      "metadata": {
        "id": "5Z55h_iHML4J"
      },
      "source": [
        ""
      ],
      "execution_count": null,
      "outputs": []
    }
  ]
}