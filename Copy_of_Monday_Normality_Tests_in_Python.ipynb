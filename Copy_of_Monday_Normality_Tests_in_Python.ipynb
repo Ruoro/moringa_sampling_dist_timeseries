{
  "nbformat": 4,
  "nbformat_minor": 0,
  "metadata": {
    "colab": {
      "name": "Copy of Monday: Normality Tests in Python",
      "provenance": [],
      "collapsed_sections": [],
      "toc_visible": true
    },
    "kernelspec": {
      "name": "python3",
      "display_name": "Python 3"
    }
  },
  "cells": [
    {
      "cell_type": "markdown",
      "metadata": {
        "id": "Nipq9BTtJozR"
      },
      "source": [
        "<font color=\"green\">*To start working on this notebook, or any other notebook that we will use in the Moringa Data Science Course, we will need to save our own copy of it. We can do this by clicking File > Save a Copy in Drive. We will then be able to make edits to our own copy of this notebook.*</font>"
      ]
    },
    {
      "cell_type": "markdown",
      "metadata": {
        "id": "KoNHMHC9GK3b"
      },
      "source": [
        "# Monday: Normality Tests with Python"
      ]
    },
    {
      "cell_type": "markdown",
      "metadata": {
        "id": "ghkmT_RKGOnf"
      },
      "source": [
        "When we work with a dataset as a data scientist, it can be very helpful to test the data for normality. The normality tests are statistical processes used to determine if a sample or any group of data fits a standard normal distribution. Normality tests are used to influence the decision when working with a sample of data on whether to use specific kinds of statistical methods during analysis i.e. parametric or nonparametric methods.\n",
        "\n"
      ]
    },
    {
      "cell_type": "markdown",
      "metadata": {
        "id": "e1f8QJ4ARaD8"
      },
      "source": [
        "## Importing our Libraries"
      ]
    },
    {
      "cell_type": "code",
      "metadata": {
        "id": "QOluu3PVRdYZ"
      },
      "source": [
        "# Importing matplotlib\n",
        "from matplotlib import pyplot\n",
        "\n",
        "# Importing functions from numpy\n",
        "from numpy.random import seed\n",
        "from numpy.random import randn"
      ],
      "execution_count": null,
      "outputs": []
    },
    {
      "cell_type": "markdown",
      "metadata": {
        "id": "3JS_Y2SCHA8-"
      },
      "source": [
        "## 1.0 Histogram Plot\n"
      ]
    },
    {
      "cell_type": "code",
      "metadata": {
        "id": "xo7KQIWwGJQl",
        "colab": {
          "base_uri": "https://localhost:8080/",
          "height": 265
        },
        "outputId": "e9b483ba-d885-40c9-ae17-08161b5dd0b6"
      },
      "source": [
        "# Example 1\n",
        "# ---\n",
        "# A histogram can be used to test whether data is normally distributed. \n",
        "# This test simply consists of looking at the histogram and discerning \n",
        "# whether it approximates the bell curve of a normal distribution.\n",
        "# ---\n",
        "#\n",
        "\n",
        "# generate univariate observations\n",
        "data = 5 * randn(100) + 50\n",
        "\n",
        "# histogram plot\n",
        "pyplot.hist(data)\n",
        "pyplot.show()\n",
        "\n",
        "# From the resulting histogram, we can see a Gaussian-like shape to the data, \n",
        "# that although is not strongly the familiar bell-shape, is a rough approximation."
      ],
      "execution_count": null,
      "outputs": [
        {
          "output_type": "display_data",
          "data": {
            "image/png": "[encoded data removed]",
            "text/plain": [
              "<Figure size 432x288 with 1 Axes>"
            ]
          },
          "metadata": {
            "tags": [],
            "needs_background": "light"
          }
        }
      ]
    },
    {
      "cell_type": "markdown",
      "metadata": {
        "id": "s3hbig-2IdtH"
      },
      "source": [
        "### <font color=\"green\">1.0 Challenges</font>"
      ]
    },
    {
      "cell_type": "code",
      "metadata": {
        "id": "3F2wvadV4KTl",
        "colab": {
          "base_uri": "https://localhost:8080/",
          "height": 265
        },
        "outputId": "94940531-941e-40e8-a3ce-915a3b1ebad1"
      },
      "source": [
        "# Challenge 1\n",
        "# ---\n",
        "# Question: Determine whether the given data follows a normal distribution using the histogram plot\n",
        "# ---\n",
        "import pandas as pd\n",
        "# Dataset url = http://bit.ly/GaussianDistributionDataset1\n",
        "# \n",
        "url = 'http://bit.ly/GaussianDistributionDataset1'\n",
        "df = pd.read_csv(url)\n",
        "df\n",
        "\n",
        "pyplot.hist(df['1.166658606294189156e+02'])\n",
        "pyplot.show()"
      ],
      "execution_count": null,
      "outputs": [
        {
          "output_type": "display_data",
          "data": {
            "image/png": "[encoded data removed]",
            "text/plain": [
              "<Figure size 432x288 with 1 Axes>"
            ]
          },
          "metadata": {
            "tags": [],
            "needs_background": "light"
          }
        }
      ]
    },
    {
      "cell_type": "code",
      "metadata": {
        "id": "5_NJrZ9dIiTA",
        "colab": {
          "base_uri": "https://localhost:8080/",
          "height": 265
        },
        "outputId": "fd962db2-16c1-4c23-abe2-1cbec2fc5d1b"
      },
      "source": [
        "# Challenge 2\n",
        "# ---\n",
        "# Question: Does the prices data follow a normal distribution? \n",
        "# If your sample follows a normal distribution, does this makes sense to you? Explain why.\n",
        "# If your sample does not follow a normal distribution (e.g., it could be skewed left or right, \n",
        "# have a uniform distribution, or have some other shape), then why might this be the reason?\n",
        "# ---\n",
        "# Dataset urll = http://bit.ly/NormalisationPricesDataset\n",
        "# \n",
        "urll = 'http://bit.ly/NormalisationPricesDataset'\n",
        "ddf = pd.read_csv(urll)\n",
        "pyplot.hist(ddf['price'])\n",
        "pyplot.show()\n",
        "\n",
        "# The shape is skewd to the right"
      ],
      "execution_count": null,
      "outputs": [
        {
          "output_type": "display_data",
          "data": {
            "image/png": "[encoded data removed]",
            "text/plain": [
              "<Figure size 432x288 with 1 Axes>"
            ]
          },
          "metadata": {
            "tags": [],
            "needs_background": "light"
          }
        }
      ]
    },
    {
      "cell_type": "markdown",
      "metadata": {
        "id": "pmX6aGACHQAX"
      },
      "source": [
        "## 2.0 Quantile-Quantile (Q-Q) Plot\n"
      ]
    },
    {
      "cell_type": "code",
      "metadata": {
        "id": "LEfBjhplHYGz",
        "colab": {
          "base_uri": "https://localhost:8080/",
          "height": 313
        },
        "outputId": "71aa7f20-6806-433c-aca3-48815d9e4599"
      },
      "source": [
        "# Example 1\n",
        "# ---\n",
        "# The Q-Q plot generates its own sample of the idealized distribution that we are comparing with, \n",
        "# in this case the Gaussian distribution. The idealized samples are divided into groups (e.g. 5), called quantiles. \n",
        "# Each data point in the sample is paired with a similar member from the idealized distribution at the same cumulative distribution.\n",
        "# The resulting points are plotted as a scatter plot with the idealized value on the x-axis and the data sample on the y-axis.\n",
        "# A perfect match for the distribution will be shown by a line of dots on a 45-degree angle from the bottom left of the plot to the top right. \n",
        "# Often a line is drawn on the plot to help make this expectation clear. Deviations by the dots from the line \n",
        "# would show a deviation from the expected distribution.\n",
        "# ---\n",
        "#\n",
        "\n",
        "# Importing libraries to plot our Q-Q plot\n",
        "from statsmodels.graphics.gofplots import qqplot\n",
        "from matplotlib import pyplot\n",
        "\n",
        "# seed the random number generator\n",
        "seed(1)\n",
        "\n",
        "# generate univariate observations\n",
        "data = 5 * randn(100) + 50\n",
        "\n",
        "# q-q plot\n",
        "qqplot(data, line='s')\n",
        "pyplot.show()\n",
        "\n",
        "# The resulting QQ plot shows the scatter plot of points in a diagonal line, \n",
        "# closely fitting the expected diagonal pattern for a sample from a Gaussian distribution.\n",
        "# There are a few small deviations, especially at the bottom of the plot, \n",
        "# which is to be expected given the small data sample."
      ],
      "execution_count": null,
      "outputs": [
        {
          "output_type": "stream",
          "text": [
            "/usr/local/lib/python3.7/dist-packages/statsmodels/tools/_testing.py:19: FutureWarning: pandas.util.testing is deprecated. Use the functions in the public API at pandas.testing instead.\n",
            "  import pandas.util.testing as tm\n"
          ],
          "name": "stderr"
        },
        {
          "output_type": "display_data",
          "data": {
            "image/png": "[encoded data removed]",
            "text/plain": [
              "<Figure size 432x288 with 1 Axes>"
            ]
          },
          "metadata": {
            "tags": [],
            "needs_background": "light"
          }
        }
      ]
    },
    {
      "cell_type": "markdown",
      "metadata": {
        "id": "BYTvjelSIk_A"
      },
      "source": [
        "### <font color=\"green\">2.0 Challenges</font>"
      ]
    },
    {
      "cell_type": "code",
      "metadata": {
        "id": "v1mg93rBIpY9",
        "colab": {
          "base_uri": "https://localhost:8080/",
          "height": 279
        },
        "outputId": "3bda4529-84e9-4c83-d5a7-817e4bfea13a"
      },
      "source": [
        "# Challenge 1\n",
        "# ---\n",
        "# Question: Determine whether the given data follows a normal distribution using the Q-Q plot\n",
        "# ---\n",
        "# Dataset url = http://bit.ly/GaussianDistributionDataset2\n",
        "# \n",
        "url = 'http://bit.ly/GaussianDistributionDataset2'\n",
        "ch1_df = pd.read_csv(url)\n",
        "ch1_df\n",
        "\n",
        "qqplot(ch1_df['1.079318218712840576e+02'], line='s')\n",
        "pyplot.show()"
      ],
      "execution_count": null,
      "outputs": [
        {
          "output_type": "display_data",
          "data": {
            "image/png": "[encoded data removed]",
            "text/plain": [
              "<Figure size 432x288 with 1 Axes>"
            ]
          },
          "metadata": {
            "tags": [],
            "needs_background": "light"
          }
        }
      ]
    },
    {
      "cell_type": "code",
      "metadata": {
        "id": "zVD9y_LB5z90",
        "colab": {
          "base_uri": "https://localhost:8080/",
          "height": 279
        },
        "outputId": "494a3981-70e8-47f8-e7ef-f827160570d3"
      },
      "source": [
        "# Challenge 2\n",
        "# ---\n",
        "# Question: Plot the win by wickets data in the given dataset and watch the curve.\n",
        "# Does the data follow a normal distribution\n",
        "# ---\n",
        "# Dataset url = http://bit.ly/IndianPremierLeagueDataset\n",
        "# \n",
        "url = 'http://bit.ly/IndianPremierLeagueDataset'\n",
        "ch2_df = pd.read_csv(url)\n",
        "ch2_df\n",
        "\n",
        "# win_by_wickets plot\n",
        "qqplot(ch2_df['win_by_wickets'], line='s')\n",
        "pyplot.show()"
      ],
      "execution_count": null,
      "outputs": [
        {
          "output_type": "display_data",
          "data": {
            "image/png": "[encoded data removed]",
            "text/plain": [
              "<Figure size 432x288 with 1 Axes>"
            ]
          },
          "metadata": {
            "tags": [],
            "needs_background": "light"
          }
        }
      ]
    },
    {
      "cell_type": "markdown",
      "metadata": {
        "id": "qWVD5HgDHYlL"
      },
      "source": [
        "## 3.0 The Shapiro-Wilk Test"
      ]
    },
    {
      "cell_type": "code",
      "metadata": {
        "id": "mHA3iL6kHj_Y",
        "colab": {
          "base_uri": "https://localhost:8080/"
        },
        "outputId": "50f8d914-fc3e-4b1f-ed75-0e9ac1000f4d"
      },
      "source": [
        "# Example 1\n",
        "# ---\n",
        "# The Shapiro-Wilk test evaluates a data sample and quantifies how likely it is that \n",
        "# the data was drawn from a Gaussian distribution, named for Samuel Shapiro and Martin Wilk.\n",
        "# In practice, the Shapiro-Wilk test is believed to be a reliable test of normality, \n",
        "# although there is some suggestion that the test may be suitable for smaller samples of data, e.g. thousands of observations or fewer.\n",
        "# The shapiro() SciPy function will calculate the Shapiro-Wilk on a given dataset. \n",
        "# The function returns both the W-statistic calculated by the test and the p-value. \n",
        "# ---\n",
        "#\n",
        "\n",
        "# imporing the shapiro function\n",
        "from scipy.stats import shapiro \n",
        "\n",
        "# generating univariate observations\n",
        "data = 5 * randn(100) + 50\n",
        "\n",
        "# testing for normality\n",
        "stat, p = shapiro(data)\n",
        "print('Statistics=%.3f, p=%.3f' % (stat, p))\n",
        "\n",
        "# interpreting\n",
        "alpha = 0.05\n",
        "if p > alpha:\n",
        "\tprint('Sample looks Gaussian')\n",
        "else:\n",
        "\tprint('Sample does not look Gaussian')\n",
        "  \n",
        "# Running the example first calculates the test on the data sample, \n",
        "# then prints the statistic and calculated p-value. \n",
        "# The p-value is interested and finds that the data is likely drawn from a Gaussian distribution."
      ],
      "execution_count": null,
      "outputs": [
        {
          "output_type": "stream",
          "text": [
            "Statistics=0.989, p=0.572\n",
            "Sample looks Gaussian\n"
          ],
          "name": "stdout"
        }
      ]
    },
    {
      "cell_type": "markdown",
      "metadata": {
        "id": "XbBi43lTItC2"
      },
      "source": [
        "### <font color=\"green\">3.0 Challenges</font>"
      ]
    },
    {
      "cell_type": "code",
      "metadata": {
        "id": "6gFhqrE5IyLi",
        "colab": {
          "base_uri": "https://localhost:8080/",
          "height": 422
        },
        "outputId": "1622f397-780d-4a97-a157-e7e1aadb301c"
      },
      "source": [
        "# Challenge 1\n",
        "# ---\n",
        "# Question: Using The Shapiro-Wilk Test, determine whether the given data follows a normal distribution.\n",
        "# ---\n",
        "# Dataset url = http://bit.ly/GaussianDistributionDataset3\n",
        "# \n",
        "url = 'http://bit.ly/GaussianDistributionDataset3'\n",
        "shw_df = pd.read_csv(url, sep=\"\\n\")\n",
        "shw_df.head(70)\n",
        "\n",
        "# # testing for normality\n",
        "# stat, p = shapiro(shw_df)\n",
        "# print('Statistics=%.3f, p=%.3f' % (stat, p))\n",
        "\n",
        "# # interpreting\n",
        "# alpha = 0.05\n",
        "# if p > alpha:\n",
        "# \tprint('Sample looks Gaussian')\n",
        "# else:\n",
        "# \tprint('Sample does not look Gaussian')"
      ],
      "execution_count": null,
      "outputs": [
        {
          "output_type": "execute_result",
          "data": {
            "text/html": [
              "<div>\n",
              "<style scoped>\n",
              "    .dataframe tbody tr th:only-of-type {\n",
              "        vertical-align: middle;\n",
              "    }\n",
              "\n",
              "    .dataframe tbody tr th {\n",
              "        vertical-align: top;\n",
              "    }\n",
              "\n",
              "    .dataframe thead th {\n",
              "        text-align: right;\n",
              "    }\n",
              "</style>\n",
              "<table border=\"1\" class=\"dataframe\">\n",
              "  <thead>\n",
              "    <tr style=\"text-align: right;\">\n",
              "      <th></th>\n",
              "      <th>&lt;!DOCTYPE html&gt;</th>\n",
              "    </tr>\n",
              "  </thead>\n",
              "  <tbody>\n",
              "    <tr>\n",
              "      <th>0</th>\n",
              "      <td>&lt;html lang=\"en\" data-color-mode=\"auto\" data-li...</td>\n",
              "    </tr>\n",
              "    <tr>\n",
              "      <th>1</th>\n",
              "      <td>&lt;head&gt;</td>\n",
              "    </tr>\n",
              "    <tr>\n",
              "      <th>2</th>\n",
              "      <td>&lt;meta charset=\"utf-8\"&gt;</td>\n",
              "    </tr>\n",
              "    <tr>\n",
              "      <th>3</th>\n",
              "      <td>&lt;link rel=\"dns-prefetch\" href=\"https://githu...</td>\n",
              "    </tr>\n",
              "    <tr>\n",
              "      <th>4</th>\n",
              "      <td>&lt;link rel=\"dns-prefetch\" href=\"https://avata...</td>\n",
              "    </tr>\n",
              "    <tr>\n",
              "      <th>...</th>\n",
              "      <td>...</td>\n",
              "    </tr>\n",
              "    <tr>\n",
              "      <th>65</th>\n",
              "      <td>&lt;script crossorigin=\"anonymous\" defer=\"defer...</td>\n",
              "    </tr>\n",
              "    <tr>\n",
              "      <th>66</th>\n",
              "      <td>&lt;meta name=\"hostname\" content=\"github.com\"&gt;</td>\n",
              "    </tr>\n",
              "    <tr>\n",
              "      <th>67</th>\n",
              "      <td>&lt;meta name=\"user-login\" content=\"\"&gt;</td>\n",
              "    </tr>\n",
              "    <tr>\n",
              "      <th>68</th>\n",
              "      <td>&lt;meta name=\"expected-hostname\" content=\"...</td>\n",
              "    </tr>\n",
              "    <tr>\n",
              "      <th>69</th>\n",
              "      <td>&lt;meta name=\"enabled-features\" content=\"MAR...</td>\n",
              "    </tr>\n",
              "  </tbody>\n",
              "</table>\n",
              "<p>70 rows × 1 columns</p>\n",
              "</div>"
            ],
            "text/plain": [
              "                                      <!DOCTYPE html>\n",
              "0   <html lang=\"en\" data-color-mode=\"auto\" data-li...\n",
              "1                                              <head>\n",
              "2                              <meta charset=\"utf-8\">\n",
              "3     <link rel=\"dns-prefetch\" href=\"https://githu...\n",
              "4     <link rel=\"dns-prefetch\" href=\"https://avata...\n",
              "..                                                ...\n",
              "65    <script crossorigin=\"anonymous\" defer=\"defer...\n",
              "66        <meta name=\"hostname\" content=\"github.com\">\n",
              "67                <meta name=\"user-login\" content=\"\">\n",
              "68        <meta name=\"expected-hostname\" content=\"...\n",
              "69      <meta name=\"enabled-features\" content=\"MAR...\n",
              "\n",
              "[70 rows x 1 columns]"
            ]
          },
          "metadata": {
            "tags": []
          },
          "execution_count": 37
        }
      ]
    },
    {
      "cell_type": "code",
      "metadata": {
        "id": "a61cTrtF92QC",
        "colab": {
          "base_uri": "https://localhost:8080/"
        },
        "outputId": "da0c1a89-ba14-4d05-9170-681eab2b2765"
      },
      "source": [
        "# Challenge 2\n",
        "# ---\n",
        "# Question: Plot the win by runs data in the given dataset and watch the curve.\n",
        "# Does the data follow a normal distribution\n",
        "# ---\n",
        "# Dataset url = 'http://bit.ly/IndianPremierLeagueDataset'\n",
        "# \n",
        "url = 'http://bit.ly/IndianPremierLeagueDataset'\n",
        "indf = pd.read_csv(url)\n",
        "indf \n",
        "\n",
        "# testing for normality\n",
        "stat, p = shapiro(indf['win_by_runs'])\n",
        "print('Statistics=%.3f, p=%.3f' % (stat, p))\n",
        "\n",
        "# interpreting\n",
        "alpha = 0.05\n",
        "if p > alpha:\n",
        "\tprint('Sample looks Gaussian')\n",
        "else:\n",
        "\tprint('Sample does not look Gaussian')"
      ],
      "execution_count": null,
      "outputs": [
        {
          "output_type": "stream",
          "text": [
            "Statistics=0.638, p=0.000\n",
            "Sample does not look Gaussian\n"
          ],
          "name": "stdout"
        }
      ]
    },
    {
      "cell_type": "markdown",
      "metadata": {
        "id": "tw66CC27HlKj"
      },
      "source": [
        "## 4.0 Anderson-Darling Test\n"
      ]
    },
    {
      "cell_type": "code",
      "metadata": {
        "id": "0AxqNBpEHktu",
        "colab": {
          "base_uri": "https://localhost:8080/"
        },
        "outputId": "c7710cc7-d97e-407f-8414-f05039dfce6c"
      },
      "source": [
        "# Example 1\n",
        "# ---\n",
        "# Anderson-Darling Test is a statistical test that can be used to evaluate \n",
        "# whether a data sample comes from one of among many known data samples, named for Theodore Anderson and Donald Darling.\n",
        "# It can be used to check whether a data sample is normal. \n",
        "# The test is a modified version of a more sophisticated nonparametric goodness-of-fit statistical test called the Kolmogorov-Smirnov test.\n",
        "# A feature of the Anderson-Darling test is that it returns a list of critical values rather than a single p-value. \n",
        "# This can provide the basis for a more thorough interpretation of the result.\n",
        "# The anderson() SciPy function implements the Anderson-Darling test. \n",
        "# It takes as parameters the data sample and the name of the distribution to test it against. \n",
        "# By default, the test will check against the Gaussian distribution (dist=’norm’).\n",
        "# ---\n",
        "# \n",
        "\n",
        "# Importing anderson function form scipy \n",
        "from scipy.stats import anderson\n",
        "\n",
        "# seed the random number generator\n",
        "seed(1)\n",
        "\n",
        "# generate univariate observations\n",
        "data = 5 * randn(100) + 50\n",
        "\n",
        "# normality test\n",
        "result = anderson(data)\n",
        "print('Statistic: %.3f' % result.statistic)\n",
        "p = 0\n",
        "for i in range(len(result.critical_values)):\n",
        "\tsl, cv = result.significance_level[i], result.critical_values[i]\n",
        "\tif result.statistic < result.critical_values[i]:\n",
        "\t\tprint('%.3f: %.3f, data looks normal' % (sl, cv))\n",
        "\telse:\n",
        "\t\tprint('%.3f: %.3f, data does not look normal' % (sl, cv))\n",
        "    \n",
        "# Running this example calculates the statistic on the test data set and prints the critical values.\n",
        "# Critical values in a statistical test are a range of pre-defined significance boundaries at which \n",
        "# the H0 can be failed to be rejected if the calculated statistic is less than the critical value. \n",
        "# More on Critical values: http://bit.ly/CriticalValues.\n",
        "# Rather than just a single p-value, the test returns a critical value for a range of different commonly used significance levels.\n",
        "# We can interpret the results by failing to reject the null hypothesis that the data is normal \n",
        "# if the calculated test statistic is less than the critical value at a chosen significance level.\n",
        "# We can see that at each significance level, the test has found that the data follows a normal distribution."
      ],
      "execution_count": null,
      "outputs": [
        {
          "output_type": "stream",
          "text": [
            "Statistic: 0.220\n",
            "15.000: 0.555, data looks normal\n",
            "10.000: 0.632, data looks normal\n",
            "5.000: 0.759, data looks normal\n",
            "2.500: 0.885, data looks normal\n",
            "1.000: 1.053, data looks normal\n"
          ],
          "name": "stdout"
        }
      ]
    },
    {
      "cell_type": "markdown",
      "metadata": {
        "id": "5gSMhKaEI05P"
      },
      "source": [
        "### <font color=\"green\">4.0 Challenges</font>"
      ]
    },
    {
      "cell_type": "code",
      "metadata": {
        "id": "0_Sh6wYpI42o",
        "colab": {
          "base_uri": "https://localhost:8080/"
        },
        "outputId": "f8ac8139-a121-462f-97be-2202717890de"
      },
      "source": [
        "# Challenge 1 \n",
        "# ---\n",
        "# Question: Determine whether the given dataset follows a Gaussian Distribution\n",
        "# ---\n",
        "# Dataset url = http://bit.ly/GaussianDistributionDataset4\n",
        "#\n",
        "url =  'http://bit.ly/GaussianDistributionDataset4'\n",
        "\n",
        "gdf = pd.read_csv(url)\n",
        "\n",
        "# normality test\n",
        "result = anderson(gdf['3.455053852018261296e+01'])\n",
        "print('Statistic: %.3f' % result.statistic)\n",
        "p = 0\n",
        "for i in range(len(result.critical_values)):\n",
        "\tsl, cv = result.significance_level[i], result.critical_values[i]\n",
        "\tif result.statistic < result.critical_values[i]:\n",
        "\t\tprint('%.3f: %.3f, data looks normal' % (sl, cv))\n",
        "\telse:\n",
        "\t\tprint('%.3f: %.3f, data does not look normal' % (sl, cv))"
      ],
      "execution_count": null,
      "outputs": [
        {
          "output_type": "stream",
          "text": [
            "Statistic: 12.195\n",
            "15.000: 0.574, data does not look normal\n",
            "10.000: 0.653, data does not look normal\n",
            "5.000: 0.784, data does not look normal\n",
            "2.500: 0.914, data does not look normal\n",
            "1.000: 1.088, data does not look normal\n"
          ],
          "name": "stdout"
        }
      ]
    },
    {
      "cell_type": "code",
      "metadata": {
        "id": "3_LtL00f7og6",
        "colab": {
          "base_uri": "https://localhost:8080/"
        },
        "outputId": "65b35768-61d6-4cb8-ede4-4dfc1b1e2b9b"
      },
      "source": [
        "# Challenge 2\n",
        "# ---\n",
        "# Question: Plot the win by runs data in the given dataset and watch the curve.\n",
        "# Does the data follow a normal distribution\n",
        "# ---\n",
        "# Dataset url = http://bit.ly/IndianPremierLeagueDataset\n",
        "# \n",
        "indf\n",
        "# normality test\n",
        "result = anderson(indf['win_by_runs'])\n",
        "print('Statistic: %.3f' % result.statistic)\n",
        "p = 0\n",
        "for i in range(len(result.critical_values)):\n",
        "\tsl, cv = result.significance_level[i], result.critical_values[i]\n",
        "\tif result.statistic < result.critical_values[i]:\n",
        "\t\tprint('%.3f: %.3f, data looks normal' % (sl, cv))\n",
        "\telse:\n",
        "\t\tprint('%.3f: %.3f, data does not look normal' % (sl, cv))"
      ],
      "execution_count": null,
      "outputs": [
        {
          "output_type": "stream",
          "text": [
            "Statistic: 88.751\n",
            "15.000: 0.573, data does not look normal\n",
            "10.000: 0.652, data does not look normal\n",
            "5.000: 0.783, data does not look normal\n",
            "2.500: 0.913, data does not look normal\n",
            "1.000: 1.086, data does not look normal\n"
          ],
          "name": "stdout"
        }
      ]
    },
    {
      "cell_type": "markdown",
      "metadata": {
        "id": "pWrZOT_QHu_5"
      },
      "source": [
        "## 5.0 D’Agostino’s K^2 Test"
      ]
    },
    {
      "cell_type": "code",
      "metadata": {
        "id": "kx8Q3c6xIMJ9",
        "colab": {
          "base_uri": "https://localhost:8080/"
        },
        "outputId": "66383cc7-d90a-4d2a-b90c-3eacafcf6025"
      },
      "source": [
        "# Example 1\n",
        "# ---\n",
        "# The D’Agostino’s K^2 test calculates summary statistics from the data, namely kurtosis and skewness, \n",
        "# to determine if the data distribution departs from the normal distribution, named for Ralph D’Agostino.\n",
        "# -> Skew is a quantification of how much a distribution is pushed left or right, a measure of asymmetry in the distribution.\n",
        "# -> Kurtosis quantifies how much of the distribution is in the tail. It is a simple and commonly used statistical test for normality.\n",
        "# The D’Agostino’s K^2 test is available via the normaltest() SciPy function and returns the test statistic and the p-value.\n",
        "# ---\n",
        "\n",
        "from numpy.random import seed\n",
        "from numpy.random import randn\n",
        "from scipy.stats import normaltest\n",
        "# seed the random number generator\n",
        "seed(1)\n",
        "# generate univariate observations\n",
        "data = 5 * randn(100) + 50\n",
        "# normality test\n",
        "stat, p = normaltest(data)\n",
        "print('Statistics=%.3f, p=%.3f' % (stat, p))\n",
        "# interpret\n",
        "alpha = 0.05\n",
        "if p > alpha:\n",
        "\tprint('Sample looks Gaussian')\n",
        "else:\n",
        "\tprint('Sample does not look Gaussian')"
      ],
      "execution_count": null,
      "outputs": [
        {
          "output_type": "stream",
          "text": [
            "Statistics=0.102, p=0.950\n",
            "Sample looks Gaussian\n"
          ],
          "name": "stdout"
        }
      ]
    },
    {
      "cell_type": "markdown",
      "metadata": {
        "id": "eE37tkQCI8lN"
      },
      "source": [
        "### <font color=\"green\">5.0 Challenges</font>"
      ]
    },
    {
      "cell_type": "code",
      "metadata": {
        "id": "ga0fWL-6JAbn",
        "colab": {
          "base_uri": "https://localhost:8080/",
          "height": 535
        },
        "outputId": "db47dab6-da70-49ec-a304-53022a0760f8"
      },
      "source": [
        "# Challenge 1\n",
        "# ---\n",
        "# Question: Using D’Agostino’s K^2 Test, determine whether the given data follows a normal distribution.\n",
        "# ---\n",
        "# Dataset url = http://bit.ly/GaussianDistributionDataset3\n",
        "# \n",
        "url = 'http://bit.ly/GaussianDistributionDataset3'\n",
        "gdf3 = pd.read_csv(url)\n",
        "gdf3"
      ],
      "execution_count": null,
      "outputs": [
        {
          "output_type": "error",
          "ename": "ParserError",
          "evalue": "ignored",
          "traceback": [
            "\u001b[0;31m---------------------------------------------------------------------------\u001b[0m",
            "\u001b[0;31mParserError\u001b[0m                               Traceback (most recent call last)",
            "\u001b[0;32m<ipython-input-49-91fae96599b9>\u001b[0m in \u001b[0;36m<module>\u001b[0;34m()\u001b[0m\n\u001b[1;32m      6\u001b[0m \u001b[0;31m#\u001b[0m\u001b[0;34m\u001b[0m\u001b[0;34m\u001b[0m\u001b[0;34m\u001b[0m\u001b[0m\n\u001b[1;32m      7\u001b[0m \u001b[0murl\u001b[0m \u001b[0;34m=\u001b[0m \u001b[0;34m'http://bit.ly/GaussianDistributionDataset3'\u001b[0m\u001b[0;34m\u001b[0m\u001b[0;34m\u001b[0m\u001b[0m\n\u001b[0;32m----> 8\u001b[0;31m \u001b[0mgdf3\u001b[0m \u001b[0;34m=\u001b[0m \u001b[0mpd\u001b[0m\u001b[0;34m.\u001b[0m\u001b[0mread_csv\u001b[0m\u001b[0;34m(\u001b[0m\u001b[0murl\u001b[0m\u001b[0;34m)\u001b[0m\u001b[0;34m\u001b[0m\u001b[0;34m\u001b[0m\u001b[0m\n\u001b[0m\u001b[1;32m      9\u001b[0m \u001b[0mgdf3\u001b[0m\u001b[0;34m\u001b[0m\u001b[0;34m\u001b[0m\u001b[0m\n",
            "\u001b[0;32m/usr/local/lib/python3.7/dist-packages/pandas/io/parsers.py\u001b[0m in \u001b[0;36mread_csv\u001b[0;34m(filepath_or_buffer, sep, delimiter, header, names, index_col, usecols, squeeze, prefix, mangle_dupe_cols, dtype, engine, converters, true_values, false_values, skipinitialspace, skiprows, skipfooter, nrows, na_values, keep_default_na, na_filter, verbose, skip_blank_lines, parse_dates, infer_datetime_format, keep_date_col, date_parser, dayfirst, cache_dates, iterator, chunksize, compression, thousands, decimal, lineterminator, quotechar, quoting, doublequote, escapechar, comment, encoding, dialect, error_bad_lines, warn_bad_lines, delim_whitespace, low_memory, memory_map, float_precision)\u001b[0m\n\u001b[1;32m    686\u001b[0m     )\n\u001b[1;32m    687\u001b[0m \u001b[0;34m\u001b[0m\u001b[0m\n\u001b[0;32m--> 688\u001b[0;31m     \u001b[0;32mreturn\u001b[0m \u001b[0m_read\u001b[0m\u001b[0;34m(\u001b[0m\u001b[0mfilepath_or_buffer\u001b[0m\u001b[0;34m,\u001b[0m \u001b[0mkwds\u001b[0m\u001b[0;34m)\u001b[0m\u001b[0;34m\u001b[0m\u001b[0;34m\u001b[0m\u001b[0m\n\u001b[0m\u001b[1;32m    689\u001b[0m \u001b[0;34m\u001b[0m\u001b[0m\n\u001b[1;32m    690\u001b[0m \u001b[0;34m\u001b[0m\u001b[0m\n",
            "\u001b[0;32m/usr/local/lib/python3.7/dist-packages/pandas/io/parsers.py\u001b[0m in \u001b[0;36m_read\u001b[0;34m(filepath_or_buffer, kwds)\u001b[0m\n\u001b[1;32m    458\u001b[0m \u001b[0;34m\u001b[0m\u001b[0m\n\u001b[1;32m    459\u001b[0m     \u001b[0;32mtry\u001b[0m\u001b[0;34m:\u001b[0m\u001b[0;34m\u001b[0m\u001b[0;34m\u001b[0m\u001b[0m\n\u001b[0;32m--> 460\u001b[0;31m         \u001b[0mdata\u001b[0m \u001b[0;34m=\u001b[0m \u001b[0mparser\u001b[0m\u001b[0;34m.\u001b[0m\u001b[0mread\u001b[0m\u001b[0;34m(\u001b[0m\u001b[0mnrows\u001b[0m\u001b[0;34m)\u001b[0m\u001b[0;34m\u001b[0m\u001b[0;34m\u001b[0m\u001b[0m\n\u001b[0m\u001b[1;32m    461\u001b[0m     \u001b[0;32mfinally\u001b[0m\u001b[0;34m:\u001b[0m\u001b[0;34m\u001b[0m\u001b[0;34m\u001b[0m\u001b[0m\n\u001b[1;32m    462\u001b[0m         \u001b[0mparser\u001b[0m\u001b[0;34m.\u001b[0m\u001b[0mclose\u001b[0m\u001b[0;34m(\u001b[0m\u001b[0;34m)\u001b[0m\u001b[0;34m\u001b[0m\u001b[0;34m\u001b[0m\u001b[0m\n",
            "\u001b[0;32m/usr/local/lib/python3.7/dist-packages/pandas/io/parsers.py\u001b[0m in \u001b[0;36mread\u001b[0;34m(self, nrows)\u001b[0m\n\u001b[1;32m   1196\u001b[0m     \u001b[0;32mdef\u001b[0m \u001b[0mread\u001b[0m\u001b[0;34m(\u001b[0m\u001b[0mself\u001b[0m\u001b[0;34m,\u001b[0m \u001b[0mnrows\u001b[0m\u001b[0;34m=\u001b[0m\u001b[0;32mNone\u001b[0m\u001b[0;34m)\u001b[0m\u001b[0;34m:\u001b[0m\u001b[0;34m\u001b[0m\u001b[0;34m\u001b[0m\u001b[0m\n\u001b[1;32m   1197\u001b[0m         \u001b[0mnrows\u001b[0m \u001b[0;34m=\u001b[0m \u001b[0m_validate_integer\u001b[0m\u001b[0;34m(\u001b[0m\u001b[0;34m\"nrows\"\u001b[0m\u001b[0;34m,\u001b[0m \u001b[0mnrows\u001b[0m\u001b[0;34m)\u001b[0m\u001b[0;34m\u001b[0m\u001b[0;34m\u001b[0m\u001b[0m\n\u001b[0;32m-> 1198\u001b[0;31m         \u001b[0mret\u001b[0m \u001b[0;34m=\u001b[0m \u001b[0mself\u001b[0m\u001b[0;34m.\u001b[0m\u001b[0m_engine\u001b[0m\u001b[0;34m.\u001b[0m\u001b[0mread\u001b[0m\u001b[0;34m(\u001b[0m\u001b[0mnrows\u001b[0m\u001b[0;34m)\u001b[0m\u001b[0;34m\u001b[0m\u001b[0;34m\u001b[0m\u001b[0m\n\u001b[0m\u001b[1;32m   1199\u001b[0m \u001b[0;34m\u001b[0m\u001b[0m\n\u001b[1;32m   1200\u001b[0m         \u001b[0;31m# May alter columns / col_dict\u001b[0m\u001b[0;34m\u001b[0m\u001b[0;34m\u001b[0m\u001b[0;34m\u001b[0m\u001b[0m\n",
            "\u001b[0;32m/usr/local/lib/python3.7/dist-packages/pandas/io/parsers.py\u001b[0m in \u001b[0;36mread\u001b[0;34m(self, nrows)\u001b[0m\n\u001b[1;32m   2155\u001b[0m     \u001b[0;32mdef\u001b[0m \u001b[0mread\u001b[0m\u001b[0;34m(\u001b[0m\u001b[0mself\u001b[0m\u001b[0;34m,\u001b[0m \u001b[0mnrows\u001b[0m\u001b[0;34m=\u001b[0m\u001b[0;32mNone\u001b[0m\u001b[0;34m)\u001b[0m\u001b[0;34m:\u001b[0m\u001b[0;34m\u001b[0m\u001b[0;34m\u001b[0m\u001b[0m\n\u001b[1;32m   2156\u001b[0m         \u001b[0;32mtry\u001b[0m\u001b[0;34m:\u001b[0m\u001b[0;34m\u001b[0m\u001b[0;34m\u001b[0m\u001b[0m\n\u001b[0;32m-> 2157\u001b[0;31m             \u001b[0mdata\u001b[0m \u001b[0;34m=\u001b[0m \u001b[0mself\u001b[0m\u001b[0;34m.\u001b[0m\u001b[0m_reader\u001b[0m\u001b[0;34m.\u001b[0m\u001b[0mread\u001b[0m\u001b[0;34m(\u001b[0m\u001b[0mnrows\u001b[0m\u001b[0;34m)\u001b[0m\u001b[0;34m\u001b[0m\u001b[0;34m\u001b[0m\u001b[0m\n\u001b[0m\u001b[1;32m   2158\u001b[0m         \u001b[0;32mexcept\u001b[0m \u001b[0mStopIteration\u001b[0m\u001b[0;34m:\u001b[0m\u001b[0;34m\u001b[0m\u001b[0;34m\u001b[0m\u001b[0m\n\u001b[1;32m   2159\u001b[0m             \u001b[0;32mif\u001b[0m \u001b[0mself\u001b[0m\u001b[0;34m.\u001b[0m\u001b[0m_first_chunk\u001b[0m\u001b[0;34m:\u001b[0m\u001b[0;34m\u001b[0m\u001b[0;34m\u001b[0m\u001b[0m\n",
            "\u001b[0;32mpandas/_libs/parsers.pyx\u001b[0m in \u001b[0;36mpandas._libs.parsers.TextReader.read\u001b[0;34m()\u001b[0m\n",
            "\u001b[0;32mpandas/_libs/parsers.pyx\u001b[0m in \u001b[0;36mpandas._libs.parsers.TextReader._read_low_memory\u001b[0;34m()\u001b[0m\n",
            "\u001b[0;32mpandas/_libs/parsers.pyx\u001b[0m in \u001b[0;36mpandas._libs.parsers.TextReader._read_rows\u001b[0;34m()\u001b[0m\n",
            "\u001b[0;32mpandas/_libs/parsers.pyx\u001b[0m in \u001b[0;36mpandas._libs.parsers.TextReader._tokenize_rows\u001b[0;34m()\u001b[0m\n",
            "\u001b[0;32mpandas/_libs/parsers.pyx\u001b[0m in \u001b[0;36mpandas._libs.parsers.raise_parser_error\u001b[0;34m()\u001b[0m\n",
            "\u001b[0;31mParserError\u001b[0m: Error tokenizing data. C error: Expected 1 fields in line 85, saw 2\n"
          ]
        }
      ]
    },
    {
      "cell_type": "code",
      "metadata": {
        "id": "ICPWiAoEJBvc",
        "colab": {
          "base_uri": "https://localhost:8080/"
        },
        "outputId": "f9f0a081-30a7-441f-ceec-245702ee77d8"
      },
      "source": [
        "# Challenge 2\n",
        "# ---\n",
        "# Question: From the fifa dataset given below, does the overall rating data follow a normal distribution? \n",
        "# If your sample follows a normal distribution, does this makes sense to you? Explain why.\n",
        "# If your sample does not follow a normal distribution (e.g., it could be skewed left or right, \n",
        "# have a uniform distribution, or have some other shape), then why might this be the reason?\n",
        "# ---\n",
        "# Dataset url = http://bit.ly/FifaDataset\n",
        "# \n",
        "url = 'http://bit.ly/FifaDataset'\n",
        "# fifa_df = pd.read_csv(url)\n",
        "# fifa_df[]\n",
        "# normality test\n",
        "stat, p = normaltest(fifa_df['Overall'])\n",
        "print('Statistics=%.3f, p=%.3f' % (stat, p))\n",
        "# interpret\n",
        "alpha = 0.05\n",
        "if p > alpha:\n",
        "\tprint('Sample looks Gaussian')\n",
        "else:\n",
        "\tprint('Sample does not look Gaussian')"
      ],
      "execution_count": null,
      "outputs": [
        {
          "output_type": "stream",
          "text": [
            "Statistics=20.219, p=0.000\n",
            "Sample does not look Gaussian\n"
          ],
          "name": "stdout"
        }
      ]
    },
    {
      "cell_type": "markdown",
      "metadata": {
        "id": "PWPpyTdDIZZ-"
      },
      "source": [
        "## 6.0 Further Readings"
      ]
    },
    {
      "cell_type": "markdown",
      "metadata": {
        "id": "UhPRWBIiH1jp"
      },
      "source": [
        "Other plots that we have not covered in this session but are also worth exploring include:\n",
        "\n",
        "\n",
        "*   Box Plots.\n",
        "*   The Kolmogorov-Smirnov test.\n",
        "\n",
        "\n"
      ]
    }
  ]
}